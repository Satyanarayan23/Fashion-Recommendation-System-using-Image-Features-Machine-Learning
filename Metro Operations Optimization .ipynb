{
 "cells": [
  {
   "cell_type": "code",
   "execution_count": null,
   "id": "9986ff81-2837-4bb5-83c3-6e5b2c34f8d3",
   "metadata": {},
   "outputs": [],
   "source": []
  }
 ],
 "metadata": {
  "kernelspec": {
   "display_name": "",
   "name": ""
  },
  "language_info": {
   "name": ""
  }
 },
 "nbformat": 4,
 "nbformat_minor": 5
}
